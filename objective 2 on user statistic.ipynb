{
 "cells": [
  {
   "cell_type": "code",
   "execution_count": 1,
   "id": "73fe16ab",
   "metadata": {},
   "outputs": [
    {
     "name": "stdout",
     "output_type": "stream",
     "text": [
      "enter userid between1 to 1000:167\n",
      "Time Slot 9AM=0,10AM=1,11AM=2,12PM=3,1PM=4,2PM=5,3PM=6,4PM=7,5PM=8:2\n",
      "The recomended game as per follows\n",
      "----------------------------------\n",
      "Sr.N Game No\n"
     ]
    },
    {
     "data": {
      "text/plain": [
       "1    15\n",
       "2    17\n",
       "3     7\n",
       "4    16\n",
       "5    18\n",
       "6     8\n",
       "7    11\n",
       "Name: index, dtype: int64"
      ]
     },
     "metadata": {},
     "output_type": "display_data"
    }
   ],
   "source": [
    "import pandas as pd\n",
    "import numpy as np\n",
    "import csv\n",
    "\n",
    "\n",
    "df=pd.read_csv('input.csv')\n",
    "\n",
    "\n",
    "a=int(input('enter userid between1 to 1000:'))\n",
    "b=int(input('Time Slot 9AM=0,10AM=1,11AM=2,12PM=3,1PM=4,2PM=5,3PM=6,4PM=7,5PM=8:'))\n",
    "C=9-b\n",
    "\n",
    "df55=(df.loc[(df.user_id == a) & (df.timeslot==b)])\n",
    "\n",
    "df56=(df.loc[(df.user_id == a)])\n",
    "\n",
    "df57=df56['gameid'].value_counts()\n",
    "\n",
    "df59 = df57.to_frame().reset_index()\n",
    "\n",
    "print('The recomended game as per follows')\n",
    "print('----------------------------------')\n",
    "print('Sr.N Game No')\n",
    "display(df59['index'].loc[1:C])\n"
   ]
  },
  {
   "cell_type": "code",
   "execution_count": null,
   "id": "50d46c0a",
   "metadata": {},
   "outputs": [],
   "source": []
  }
 ],
 "metadata": {
  "kernelspec": {
   "display_name": "Python 3 (ipykernel)",
   "language": "python",
   "name": "python3"
  },
  "language_info": {
   "codemirror_mode": {
    "name": "ipython",
    "version": 3
   },
   "file_extension": ".py",
   "mimetype": "text/x-python",
   "name": "python",
   "nbconvert_exporter": "python",
   "pygments_lexer": "ipython3",
   "version": "3.9.12"
  }
 },
 "nbformat": 4,
 "nbformat_minor": 5
}

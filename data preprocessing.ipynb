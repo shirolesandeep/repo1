{
 "cells": [
  {
   "cell_type": "code",
   "execution_count": 1,
   "id": "03bc00c3",
   "metadata": {},
   "outputs": [],
   "source": [
    "import pandas as pd\n",
    "import csv\n",
    "df=pd.read_csv('part1submission.csv')"
   ]
  },
  {
   "cell_type": "code",
   "execution_count": 2,
   "id": "4e8ce7e7",
   "metadata": {},
   "outputs": [
    {
     "data": {
      "text/html": [
       "<div>\n",
       "<style scoped>\n",
       "    .dataframe tbody tr th:only-of-type {\n",
       "        vertical-align: middle;\n",
       "    }\n",
       "\n",
       "    .dataframe tbody tr th {\n",
       "        vertical-align: top;\n",
       "    }\n",
       "\n",
       "    .dataframe thead th {\n",
       "        text-align: right;\n",
       "    }\n",
       "</style>\n",
       "<table border=\"1\" class=\"dataframe\">\n",
       "  <thead>\n",
       "    <tr style=\"text-align: right;\">\n",
       "      <th></th>\n",
       "      <th>Unnamed: 0</th>\n",
       "      <th>days</th>\n",
       "      <th>user_id</th>\n",
       "      <th>age</th>\n",
       "      <th>gender</th>\n",
       "      <th>location</th>\n",
       "      <th>timeslot</th>\n",
       "      <th>gameid</th>\n",
       "      <th>gener</th>\n",
       "    </tr>\n",
       "  </thead>\n",
       "  <tbody>\n",
       "    <tr>\n",
       "      <th>89995</th>\n",
       "      <td>89995</td>\n",
       "      <td>10</td>\n",
       "      <td>1000</td>\n",
       "      <td>28</td>\n",
       "      <td>3</td>\n",
       "      <td>1</td>\n",
       "      <td>5</td>\n",
       "      <td>20</td>\n",
       "      <td>6</td>\n",
       "    </tr>\n",
       "    <tr>\n",
       "      <th>89996</th>\n",
       "      <td>89996</td>\n",
       "      <td>10</td>\n",
       "      <td>1000</td>\n",
       "      <td>28</td>\n",
       "      <td>3</td>\n",
       "      <td>1</td>\n",
       "      <td>6</td>\n",
       "      <td>14</td>\n",
       "      <td>4</td>\n",
       "    </tr>\n",
       "    <tr>\n",
       "      <th>89997</th>\n",
       "      <td>89997</td>\n",
       "      <td>10</td>\n",
       "      <td>1000</td>\n",
       "      <td>28</td>\n",
       "      <td>3</td>\n",
       "      <td>1</td>\n",
       "      <td>7</td>\n",
       "      <td>4</td>\n",
       "      <td>1</td>\n",
       "    </tr>\n",
       "    <tr>\n",
       "      <th>89998</th>\n",
       "      <td>89998</td>\n",
       "      <td>10</td>\n",
       "      <td>1000</td>\n",
       "      <td>28</td>\n",
       "      <td>3</td>\n",
       "      <td>1</td>\n",
       "      <td>8</td>\n",
       "      <td>19</td>\n",
       "      <td>6</td>\n",
       "    </tr>\n",
       "    <tr>\n",
       "      <th>89999</th>\n",
       "      <td>89999</td>\n",
       "      <td>10</td>\n",
       "      <td>1000</td>\n",
       "      <td>28</td>\n",
       "      <td>3</td>\n",
       "      <td>1</td>\n",
       "      <td>9</td>\n",
       "      <td>1</td>\n",
       "      <td>1</td>\n",
       "    </tr>\n",
       "  </tbody>\n",
       "</table>\n",
       "</div>"
      ],
      "text/plain": [
       "       Unnamed: 0  days  user_id  age  gender  location  timeslot  gameid  \\\n",
       "89995       89995    10     1000   28       3         1         5      20   \n",
       "89996       89996    10     1000   28       3         1         6      14   \n",
       "89997       89997    10     1000   28       3         1         7       4   \n",
       "89998       89998    10     1000   28       3         1         8      19   \n",
       "89999       89999    10     1000   28       3         1         9       1   \n",
       "\n",
       "       gener  \n",
       "89995      6  \n",
       "89996      4  \n",
       "89997      1  \n",
       "89998      6  \n",
       "89999      1  "
      ]
     },
     "execution_count": 2,
     "metadata": {},
     "output_type": "execute_result"
    }
   ],
   "source": [
    "df.tail()"
   ]
  },
  {
   "cell_type": "code",
   "execution_count": 3,
   "id": "7cfe224d",
   "metadata": {},
   "outputs": [
    {
     "data": {
      "text/plain": [
       "array(['Unnamed: 0', 'days', 'user_id', 'age', 'gender', 'location',\n",
       "       'timeslot', 'gameid', 'gener'], dtype=object)"
      ]
     },
     "execution_count": 3,
     "metadata": {},
     "output_type": "execute_result"
    }
   ],
   "source": [
    "df.columns.values"
   ]
  },
  {
   "cell_type": "code",
   "execution_count": 4,
   "id": "ef46e9ee",
   "metadata": {},
   "outputs": [],
   "source": [
    "df.drop('Unnamed: 0', axis=1, inplace=True)"
   ]
  },
  {
   "cell_type": "code",
   "execution_count": 5,
   "id": "81158f07",
   "metadata": {},
   "outputs": [
    {
     "data": {
      "text/html": [
       "<div>\n",
       "<style scoped>\n",
       "    .dataframe tbody tr th:only-of-type {\n",
       "        vertical-align: middle;\n",
       "    }\n",
       "\n",
       "    .dataframe tbody tr th {\n",
       "        vertical-align: top;\n",
       "    }\n",
       "\n",
       "    .dataframe thead th {\n",
       "        text-align: right;\n",
       "    }\n",
       "</style>\n",
       "<table border=\"1\" class=\"dataframe\">\n",
       "  <thead>\n",
       "    <tr style=\"text-align: right;\">\n",
       "      <th></th>\n",
       "      <th>days</th>\n",
       "      <th>user_id</th>\n",
       "      <th>age</th>\n",
       "      <th>gender</th>\n",
       "      <th>location</th>\n",
       "      <th>timeslot</th>\n",
       "      <th>gameid</th>\n",
       "      <th>gener</th>\n",
       "    </tr>\n",
       "  </thead>\n",
       "  <tbody>\n",
       "    <tr>\n",
       "      <th>0</th>\n",
       "      <td>1</td>\n",
       "      <td>1</td>\n",
       "      <td>25</td>\n",
       "      <td>1</td>\n",
       "      <td>16</td>\n",
       "      <td>1</td>\n",
       "      <td>7</td>\n",
       "      <td>2</td>\n",
       "    </tr>\n",
       "    <tr>\n",
       "      <th>1</th>\n",
       "      <td>1</td>\n",
       "      <td>1</td>\n",
       "      <td>25</td>\n",
       "      <td>1</td>\n",
       "      <td>16</td>\n",
       "      <td>2</td>\n",
       "      <td>3</td>\n",
       "      <td>1</td>\n",
       "    </tr>\n",
       "    <tr>\n",
       "      <th>2</th>\n",
       "      <td>1</td>\n",
       "      <td>1</td>\n",
       "      <td>25</td>\n",
       "      <td>1</td>\n",
       "      <td>16</td>\n",
       "      <td>3</td>\n",
       "      <td>13</td>\n",
       "      <td>4</td>\n",
       "    </tr>\n",
       "    <tr>\n",
       "      <th>3</th>\n",
       "      <td>1</td>\n",
       "      <td>1</td>\n",
       "      <td>25</td>\n",
       "      <td>1</td>\n",
       "      <td>16</td>\n",
       "      <td>4</td>\n",
       "      <td>9</td>\n",
       "      <td>3</td>\n",
       "    </tr>\n",
       "    <tr>\n",
       "      <th>4</th>\n",
       "      <td>1</td>\n",
       "      <td>1</td>\n",
       "      <td>25</td>\n",
       "      <td>1</td>\n",
       "      <td>16</td>\n",
       "      <td>5</td>\n",
       "      <td>15</td>\n",
       "      <td>5</td>\n",
       "    </tr>\n",
       "    <tr>\n",
       "      <th>...</th>\n",
       "      <td>...</td>\n",
       "      <td>...</td>\n",
       "      <td>...</td>\n",
       "      <td>...</td>\n",
       "      <td>...</td>\n",
       "      <td>...</td>\n",
       "      <td>...</td>\n",
       "      <td>...</td>\n",
       "    </tr>\n",
       "    <tr>\n",
       "      <th>89995</th>\n",
       "      <td>10</td>\n",
       "      <td>1000</td>\n",
       "      <td>28</td>\n",
       "      <td>3</td>\n",
       "      <td>1</td>\n",
       "      <td>5</td>\n",
       "      <td>20</td>\n",
       "      <td>6</td>\n",
       "    </tr>\n",
       "    <tr>\n",
       "      <th>89996</th>\n",
       "      <td>10</td>\n",
       "      <td>1000</td>\n",
       "      <td>28</td>\n",
       "      <td>3</td>\n",
       "      <td>1</td>\n",
       "      <td>6</td>\n",
       "      <td>14</td>\n",
       "      <td>4</td>\n",
       "    </tr>\n",
       "    <tr>\n",
       "      <th>89997</th>\n",
       "      <td>10</td>\n",
       "      <td>1000</td>\n",
       "      <td>28</td>\n",
       "      <td>3</td>\n",
       "      <td>1</td>\n",
       "      <td>7</td>\n",
       "      <td>4</td>\n",
       "      <td>1</td>\n",
       "    </tr>\n",
       "    <tr>\n",
       "      <th>89998</th>\n",
       "      <td>10</td>\n",
       "      <td>1000</td>\n",
       "      <td>28</td>\n",
       "      <td>3</td>\n",
       "      <td>1</td>\n",
       "      <td>8</td>\n",
       "      <td>19</td>\n",
       "      <td>6</td>\n",
       "    </tr>\n",
       "    <tr>\n",
       "      <th>89999</th>\n",
       "      <td>10</td>\n",
       "      <td>1000</td>\n",
       "      <td>28</td>\n",
       "      <td>3</td>\n",
       "      <td>1</td>\n",
       "      <td>9</td>\n",
       "      <td>1</td>\n",
       "      <td>1</td>\n",
       "    </tr>\n",
       "  </tbody>\n",
       "</table>\n",
       "<p>90000 rows × 8 columns</p>\n",
       "</div>"
      ],
      "text/plain": [
       "       days  user_id  age  gender  location  timeslot  gameid  gener\n",
       "0         1        1   25       1        16         1       7      2\n",
       "1         1        1   25       1        16         2       3      1\n",
       "2         1        1   25       1        16         3      13      4\n",
       "3         1        1   25       1        16         4       9      3\n",
       "4         1        1   25       1        16         5      15      5\n",
       "...     ...      ...  ...     ...       ...       ...     ...    ...\n",
       "89995    10     1000   28       3         1         5      20      6\n",
       "89996    10     1000   28       3         1         6      14      4\n",
       "89997    10     1000   28       3         1         7       4      1\n",
       "89998    10     1000   28       3         1         8      19      6\n",
       "89999    10     1000   28       3         1         9       1      1\n",
       "\n",
       "[90000 rows x 8 columns]"
      ]
     },
     "execution_count": 5,
     "metadata": {},
     "output_type": "execute_result"
    }
   ],
   "source": [
    "df"
   ]
  },
  {
   "cell_type": "code",
   "execution_count": 6,
   "id": "8489afd0",
   "metadata": {},
   "outputs": [],
   "source": [
    "\n",
    "data2=df.groupby(['user_id','age','gender','location','days', 'timeslot','gameid','gener']).size()"
   ]
  },
  {
   "cell_type": "code",
   "execution_count": 7,
   "id": "fe092018",
   "metadata": {},
   "outputs": [
    {
     "data": {
      "text/plain": [
       "user_id  age  gender  location  days  timeslot  gameid  gener\n",
       "1        25   1       16        1     1         7       2        1\n",
       "                                      2         3       1        1\n",
       "                                      3         13      4        1\n",
       "                                      4         9       3        1\n",
       "                                      5         15      5        1\n",
       "                                      6         5       2        1\n",
       "                                      7         12      4        1\n",
       "                                      8         5       2        1\n",
       "                                      9         20      6        1\n",
       "                                2     1         6       2        1\n",
       "                                      2         9       3        1\n",
       "                                      3         3       1        1\n",
       "                                      4         4       1        1\n",
       "                                      5         12      4        1\n",
       "                                      6         4       1        1\n",
       "                                      7         16      5        1\n",
       "                                      8         10      3        1\n",
       "                                      9         13      4        1\n",
       "                                3     1         18      6        1\n",
       "                                      2         12      4        1\n",
       "                                      3         5       2        1\n",
       "                                      4         11      3        1\n",
       "                                      5         9       3        1\n",
       "                                      6         10      3        1\n",
       "                                      7         7       2        1\n",
       "                                      8         2       1        1\n",
       "                                      9         4       1        1\n",
       "                                4     1         17      5        1\n",
       "                                      2         16      5        1\n",
       "                                      3         10      3        1\n",
       "dtype: int64"
      ]
     },
     "execution_count": 7,
     "metadata": {},
     "output_type": "execute_result"
    }
   ],
   "source": [
    "data2.head(30)"
   ]
  },
  {
   "cell_type": "code",
   "execution_count": 8,
   "id": "79d3720c",
   "metadata": {},
   "outputs": [],
   "source": [
    "data2.to_csv('input.csv')"
   ]
  },
  {
   "cell_type": "code",
   "execution_count": 9,
   "id": "6ad93dfe",
   "metadata": {},
   "outputs": [
    {
     "data": {
      "text/plain": [
       "user_id  age  gender  location  days  timeslot  gameid  gener\n",
       "1000     28   3       1         7     7         7       2        1\n",
       "                                      8         20      6        1\n",
       "                                      9         10      3        1\n",
       "                                8     1         10      3        1\n",
       "                                      2         11      3        1\n",
       "                                      3         4       1        1\n",
       "                                      4         6       2        1\n",
       "                                      5         19      6        1\n",
       "                                      6         19      6        1\n",
       "                                      7         6       2        1\n",
       "                                      8         3       1        1\n",
       "                                      9         2       1        1\n",
       "                                9     1         16      5        1\n",
       "                                      2         3       1        1\n",
       "                                      3         1       1        1\n",
       "                                      4         18      6        1\n",
       "                                      5         17      5        1\n",
       "                                      6         17      5        1\n",
       "                                      7         15      5        1\n",
       "                                      8         1       1        1\n",
       "                                      9         19      6        1\n",
       "                                10    1         17      5        1\n",
       "                                      2         2       1        1\n",
       "                                      3         20      6        1\n",
       "                                      4         12      4        1\n",
       "                                      5         20      6        1\n",
       "                                      6         14      4        1\n",
       "                                      7         4       1        1\n",
       "                                      8         19      6        1\n",
       "                                      9         1       1        1\n",
       "dtype: int64"
      ]
     },
     "execution_count": 9,
     "metadata": {},
     "output_type": "execute_result"
    }
   ],
   "source": [
    "data2.tail(30)"
   ]
  },
  {
   "cell_type": "code",
   "execution_count": 10,
   "id": "4e7b413c",
   "metadata": {},
   "outputs": [
    {
     "data": {
      "text/plain": [
       "user_id  gameid\n",
       "797      13         6\n",
       "603      1          6\n",
       "625      20         6\n",
       "589      13         6\n",
       "246      4          7\n",
       "                   ..\n",
       "665      1         14\n",
       "211      8         14\n",
       "673      6         14\n",
       "918      15        14\n",
       "796      7         16\n",
       "Length: 1000, dtype: int64"
      ]
     },
     "execution_count": 10,
     "metadata": {},
     "output_type": "execute_result"
    }
   ],
   "source": [
    "data2.groupby([\"user_id\", \"gameid\"]).count().sort_values().groupby(level=0).tail(1)"
   ]
  },
  {
   "cell_type": "code",
   "execution_count": 11,
   "id": "a0a87888",
   "metadata": {},
   "outputs": [],
   "source": [
    "data3=data2.groupby([\"user_id\", \"gameid\"]).count().sort_values().groupby(level=0).tail(1)\n",
    "data3.to_csv('summary.csv')"
   ]
  },
  {
   "cell_type": "code",
   "execution_count": 12,
   "id": "ae4333fb",
   "metadata": {},
   "outputs": [
    {
     "name": "stderr",
     "output_type": "stream",
     "text": [
      "C:\\Users\\CRYSTAL\\AppData\\Local\\Temp\\ipykernel_8948\\2651674274.py:1: FutureWarning: Using the level keyword in DataFrame and Series aggregations is deprecated and will be removed in a future version. Use groupby instead. df.median(level=1) should use df.groupby(level=1).median().\n",
      "  data2.groupby([\"user_id\", \"gameid\"]).count().max(level=0)\n"
     ]
    },
    {
     "data": {
      "text/plain": [
       "user_id\n",
       "1        9\n",
       "2       11\n",
       "3        7\n",
       "4        9\n",
       "5        9\n",
       "        ..\n",
       "996      9\n",
       "997      9\n",
       "998      7\n",
       "999      9\n",
       "1000     8\n",
       "Length: 1000, dtype: int64"
      ]
     },
     "execution_count": 12,
     "metadata": {},
     "output_type": "execute_result"
    }
   ],
   "source": [
    "data2.groupby([\"user_id\", \"gameid\"]).count().max(level=0)"
   ]
  },
  {
   "cell_type": "code",
   "execution_count": 13,
   "id": "1b663376",
   "metadata": {},
   "outputs": [
    {
     "name": "stderr",
     "output_type": "stream",
     "text": [
      "C:\\Users\\CRYSTAL\\AppData\\Local\\Temp\\ipykernel_8948\\3157933851.py:1: FutureWarning: Using the level keyword in DataFrame and Series aggregations is deprecated and will be removed in a future version. Use groupby instead. df.median(level=1) should use df.groupby(level=1).median().\n",
      "  data4=data2.groupby([\"user_id\", \"gameid\"]).count().max(level=0)\n"
     ]
    }
   ],
   "source": [
    "data4=data2.groupby([\"user_id\", \"gameid\"]).count().max(level=0)\n",
    "data4.to_csv('maxgamecountuserid.csv')"
   ]
  },
  {
   "cell_type": "code",
   "execution_count": 14,
   "id": "98a9d5ba",
   "metadata": {},
   "outputs": [
    {
     "data": {
      "text/plain": [
       "user_id  gener\n",
       "1        1        24\n",
       "         2        12\n",
       "         3        11\n",
       "         4        17\n",
       "         5        15\n",
       "                  ..\n",
       "1000     2        17\n",
       "         3        10\n",
       "         4        11\n",
       "         5        12\n",
       "         6        14\n",
       "Length: 6000, dtype: int64"
      ]
     },
     "execution_count": 14,
     "metadata": {},
     "output_type": "execute_result"
    }
   ],
   "source": [
    "data2.groupby([\"user_id\", \"gener\"]).count()"
   ]
  },
  {
   "cell_type": "code",
   "execution_count": 15,
   "id": "3441dd0e",
   "metadata": {},
   "outputs": [],
   "source": [
    "data44=data2.groupby([\"user_id\", \"gener\"]).count\n"
   ]
  },
  {
   "cell_type": "code",
   "execution_count": 16,
   "id": "bc428272",
   "metadata": {},
   "outputs": [
    {
     "data": {
      "text/plain": [
       "user_id  gameid\n",
       "1        1         1\n",
       "         2         9\n",
       "         3         8\n",
       "         4         6\n",
       "         5         6\n",
       "                  ..\n",
       "1000     16        2\n",
       "         17        6\n",
       "         18        5\n",
       "         19        5\n",
       "         20        4\n",
       "Length: 19816, dtype: int64"
      ]
     },
     "execution_count": 16,
     "metadata": {},
     "output_type": "execute_result"
    }
   ],
   "source": [
    "data2.groupby([\"user_id\", \"gameid\"]).count()"
   ]
  },
  {
   "cell_type": "code",
   "execution_count": 17,
   "id": "2765d211",
   "metadata": {},
   "outputs": [],
   "source": [
    "data66=data2.groupby([\"user_id\", \"gameid\"]).count()\n",
    "data66.to_csv('useridgameid.csv')"
   ]
  }
 ],
 "metadata": {
  "kernelspec": {
   "display_name": "Python 3 (ipykernel)",
   "language": "python",
   "name": "python3"
  },
  "language_info": {
   "codemirror_mode": {
    "name": "ipython",
    "version": 3
   },
   "file_extension": ".py",
   "mimetype": "text/x-python",
   "name": "python",
   "nbconvert_exporter": "python",
   "pygments_lexer": "ipython3",
   "version": "3.9.12"
  }
 },
 "nbformat": 4,
 "nbformat_minor": 5
}
